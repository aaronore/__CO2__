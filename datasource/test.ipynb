{
 "cells": [
  {
   "cell_type": "code",
   "execution_count": null,
   "metadata": {},
   "outputs": [],
   "source": [
    "import csv\n",
    "global co2Data\n",
    "# 解析 co2.CSV\n",
    "with open(FILENAME, newline='', encoding='utf-8') as csvfile:\n",
    "    next(csvfile)  # 跳過第一行首標題列\n",
    "    # 讀取 CSV 檔案內容\n",
    "    rows = csv.reader(csvfile)\n",
    "     # 以迴圈輸出每一列\n",
    "     co2Lst = []\n",
    "      seqno = 0\n",
    "       for row in rows:\n",
    "            seqno += 1\n",
    "            item = Co2Info()\n",
    "            item.seq = seqno\n",
    "            item.country = row[0]\n",
    "            item.year = row[1]\n",
    "            item.population = row[2]\n",
    "            item.co2 = row[3]\n",
    "            co2Lst.append(item)\n",
    "        co2Data = co2Lst\n"
   ]
  }
 ],
 "metadata": {
  "language_info": {
   "name": "python"
  },
  "orig_nbformat": 4
 },
 "nbformat": 4,
 "nbformat_minor": 2
}
